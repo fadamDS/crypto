{
 "cells": [
  {
   "cell_type": "code",
   "execution_count": 1,
   "id": "6f7f2293-37e3-431c-83e4-36897bd46b87",
   "metadata": {},
   "outputs": [],
   "source": [
    "%load_ext autoreload\n",
    "%autoreload 2"
   ]
  },
  {
   "cell_type": "code",
   "execution_count": 2,
   "id": "538a0ecd-bba2-4f95-bf6b-3962abf0486c",
   "metadata": {},
   "outputs": [],
   "source": [
    "import sys\n",
    "sys.path.append(\"../\")"
   ]
  },
  {
   "cell_type": "code",
   "execution_count": 3,
   "id": "548a12a0-982b-403a-968f-c2098bc17fdb",
   "metadata": {
    "tags": []
   },
   "outputs": [],
   "source": [
    "import numpy as np\n",
    "import pandas as pd\n",
    "import seaborn as sns\n",
    "import os\n",
    "from datetime import datetime\n",
    "import matplotlib.pyplot as plt\n",
    "from tqdm import tqdm\n",
    "from scipy import stats\n",
    "import shap\n",
    "import lightgbm as lgb\n",
    "\n",
    "from src.utils import load_fold, load_gresearch_raw\n",
    "from src.evaluation import corr_score\n",
    "from src.settings import *\n",
    "from src.features import engineer_all_features\n",
    "from src.models import CryptoDART\n",
    "\n",
    "plt.rcParams[\"figure.figsize\"] = (16,9)"
   ]
  },
  {
   "cell_type": "markdown",
   "id": "e6a50821-4d45-4560-a96f-d1abfd4628f4",
   "metadata": {},
   "source": [
    "# Fitting Pipeline LGBM"
   ]
  },
  {
   "cell_type": "code",
   "execution_count": 4,
   "id": "72d8fd0b-1150-4aed-9785-09583c0e2eed",
   "metadata": {},
   "outputs": [],
   "source": [
    "asset_info = pd.read_csv('../data/gresearch/raw/asset_details.csv')"
   ]
  },
  {
   "cell_type": "code",
   "execution_count": 5,
   "id": "eb4dce8a-3c3e-4373-903a-865f0fec4652",
   "metadata": {},
   "outputs": [],
   "source": [
    "drop_cols =['Count_x', 'Open_x', 'High_x', 'Low_x', 'Close_x', 'Volume_x', 'VWAP_x']\n",
    "rename = ['Count_y', 'Open_y', 'High_y', 'Low_y', 'Close_y', 'Volume_y', 'VWAP_y']\n",
    "new_names = [c.split('_')[0] for c in rename]\n",
    "rename_dict = dict(zip(rename, new_names))"
   ]
  },
  {
   "cell_type": "code",
   "execution_count": 24,
   "id": "8b321d37-91d0-4508-9d4d-dbf380cbda56",
   "metadata": {},
   "outputs": [],
   "source": [
    "fold = 8\n",
    "model_save_dir = f'../models/fold_{fold}/'\n",
    "result_save_path = f'../experiments/dart_base/results_fold_{fold}.csv'\n",
    "base_name = 'dart_base'"
   ]
  },
  {
   "cell_type": "code",
   "execution_count": 6,
   "id": "22481257-8fa6-4381-8d52-507ec9a32570",
   "metadata": {},
   "outputs": [],
   "source": [
    "train = load_fold('../data/gresearch/processed/fold_8/train/').drop(columns=drop_cols).rename(columns=rename_dict).dropna()\n",
    "test = load_fold('../data/gresearch/processed/fold_8/test/').drop(columns=drop_cols).rename(columns=rename_dict).dropna()"
   ]
  },
  {
   "cell_type": "code",
   "execution_count": 7,
   "id": "c2c1c40d-b8d1-4a63-8d79-b89e2d45c4af",
   "metadata": {},
   "outputs": [],
   "source": [
    "target = 'Target'\n",
    "features = [col for col in train.columns if col not in non_train_cols]"
   ]
  },
  {
   "cell_type": "code",
   "execution_count": null,
   "id": "607e7da2-4bc6-41e3-8fba-ef26257a1a2c",
   "metadata": {},
   "outputs": [],
   "source": [
    "params = {'objective': 'mae',\n",
    "          'boosting' : 'dart',\n",
    "          'num_iterations' : 200,\n",
    "          'learning_rate': 0.1,\n",
    "          'num_leaves': 20,\n",
    "          'tree_learner': 'feature',\n",
    "          'num_threads': 2,\n",
    "          'max_depth': 40,\n",
    "          'min_data_in_leaf': 40,\n",
    "          'feature_fraction': 0.8,\n",
    "          'lambda_l1': 0.01,\n",
    "          'lambda_l2': 0.01,\n",
    "          'drop_rate': 0.15,\n",
    "          'skip_drop': 0.5,\n",
    "          }"
   ]
  },
  {
   "cell_type": "code",
   "execution_count": 9,
   "id": "16c9eb18-65ab-4bbc-b894-e6c4031d79e4",
   "metadata": {},
   "outputs": [
    {
     "name": "stdout",
     "output_type": "stream",
     "text": [
      "Making data for 0\n",
      "Making data for 1\n",
      "Making data for 2\n",
      "Making data for 3\n",
      "Making data for 4\n",
      "Making data for 5\n",
      "Making data for 6\n",
      "Making data for 7\n",
      "Making data for 8\n",
      "Making data for 9\n",
      "Making data for 10\n",
      "Making data for 11\n",
      "Making data for 12\n",
      "Making data for 13\n",
      "Data creation done\n",
      "------------\n",
      "\n"
     ]
    }
   ],
   "source": [
    "\n",
    "cryptoDart = CryptoDART(assets=assets,\n",
    "                        weights=weights,\n",
    "                        names=names,\n",
    "                        params=dart_base_params)\n",
    "\n",
    "\n",
    "cryptoDart.make_data(features=features, target=target, test=test, train=train)\n",
    "cryptoDart.train()"
   ]
  },
  {
   "cell_type": "code",
   "execution_count": 10,
   "id": "7fba4120-38c8-45db-818d-2920ed0c7a49",
   "metadata": {},
   "outputs": [
    {
     "name": "stdout",
     "output_type": "stream",
     "text": [
      "Training 0\n"
     ]
    },
    {
     "name": "stderr",
     "output_type": "stream",
     "text": [
      "Found `num_iterations` in params. Will use it instead of argument\n"
     ]
    },
    {
     "name": "stdout",
     "output_type": "stream",
     "text": [
      "[LightGBM] [Warning] Auto-choosing row-wise multi-threading, the overhead of testing was 0.065021 seconds.\n",
      "You can set `force_row_wise=true` to remove the overhead.\n",
      "And if memory is not enough, you can set `force_col_wise=true`.\n",
      "[LightGBM] [Info] Total Bins 119850\n",
      "[LightGBM] [Info] Number of data points in the train set: 128880, number of used features: 470\n",
      "[LightGBM] [Info] Start training from score -0.000065\n",
      "------------\n",
      "\n",
      "Training 1\n",
      "[LightGBM] [Warning] Auto-choosing row-wise multi-threading, the overhead of testing was 0.072304 seconds.\n",
      "You can set `force_row_wise=true` to remove the overhead.\n",
      "And if memory is not enough, you can set `force_col_wise=true`.\n",
      "[LightGBM] [Info] Total Bins 119850\n",
      "[LightGBM] [Info] Number of data points in the train set: 128880, number of used features: 470\n",
      "[LightGBM] [Info] Start training from score 0.000001\n",
      "------------\n",
      "\n",
      "Training 2\n",
      "[LightGBM] [Warning] Auto-choosing row-wise multi-threading, the overhead of testing was 0.066051 seconds.\n",
      "You can set `force_row_wise=true` to remove the overhead.\n",
      "And if memory is not enough, you can set `force_col_wise=true`.\n",
      "[LightGBM] [Info] Total Bins 119850\n",
      "[LightGBM] [Info] Number of data points in the train set: 128880, number of used features: 470\n",
      "[LightGBM] [Info] Start training from score -0.000069\n",
      "------------\n",
      "\n",
      "Training 3\n",
      "[LightGBM] [Warning] Auto-choosing row-wise multi-threading, the overhead of testing was 0.063230 seconds.\n",
      "You can set `force_row_wise=true` to remove the overhead.\n",
      "And if memory is not enough, you can set `force_col_wise=true`.\n",
      "[LightGBM] [Info] Total Bins 119850\n",
      "[LightGBM] [Info] Number of data points in the train set: 128880, number of used features: 470\n",
      "[LightGBM] [Info] Start training from score -0.000122\n",
      "------------\n",
      "\n",
      "Training 4\n",
      "[LightGBM] [Warning] Auto-choosing row-wise multi-threading, the overhead of testing was 0.089731 seconds.\n",
      "You can set `force_row_wise=true` to remove the overhead.\n",
      "And if memory is not enough, you can set `force_col_wise=true`.\n",
      "[LightGBM] [Info] Total Bins 119705\n",
      "[LightGBM] [Info] Number of data points in the train set: 128880, number of used features: 470\n",
      "------------\n",
      "\n",
      "Training 5\n",
      "[LightGBM] [Warning] Auto-choosing row-wise multi-threading, the overhead of testing was 0.069284 seconds.\n",
      "You can set `force_row_wise=true` to remove the overhead.\n",
      "And if memory is not enough, you can set `force_col_wise=true`.\n",
      "[LightGBM] [Info] Total Bins 119850\n",
      "[LightGBM] [Info] Number of data points in the train set: 128880, number of used features: 470\n",
      "[LightGBM] [Info] Start training from score -0.000065\n",
      "------------\n",
      "\n",
      "Training 6\n",
      "[LightGBM] [Warning] Auto-choosing row-wise multi-threading, the overhead of testing was 0.064600 seconds.\n",
      "You can set `force_row_wise=true` to remove the overhead.\n",
      "And if memory is not enough, you can set `force_col_wise=true`.\n",
      "[LightGBM] [Info] Total Bins 119850\n",
      "[LightGBM] [Info] Number of data points in the train set: 128880, number of used features: 470\n",
      "[LightGBM] [Info] Start training from score -0.000024\n",
      "------------\n",
      "\n",
      "Training 7\n",
      "[LightGBM] [Warning] Auto-choosing row-wise multi-threading, the overhead of testing was 0.067921 seconds.\n",
      "You can set `force_row_wise=true` to remove the overhead.\n",
      "And if memory is not enough, you can set `force_col_wise=true`.\n",
      "[LightGBM] [Info] Total Bins 119850\n",
      "[LightGBM] [Info] Number of data points in the train set: 128880, number of used features: 470\n",
      "[LightGBM] [Info] Start training from score -0.000039\n",
      "------------\n",
      "\n",
      "Training 8\n",
      "[LightGBM] [Warning] Auto-choosing col-wise multi-threading, the overhead of testing was 0.424474 seconds.\n",
      "You can set `force_col_wise=true` to remove the overhead.\n",
      "[LightGBM] [Info] Total Bins 117182\n",
      "[LightGBM] [Info] Number of data points in the train set: 128880, number of used features: 470\n",
      "------------\n",
      "\n",
      "Training 9\n",
      "[LightGBM] [Warning] Auto-choosing row-wise multi-threading, the overhead of testing was 0.069609 seconds.\n",
      "You can set `force_row_wise=true` to remove the overhead.\n",
      "And if memory is not enough, you can set `force_col_wise=true`.\n",
      "[LightGBM] [Info] Total Bins 119850\n",
      "[LightGBM] [Info] Number of data points in the train set: 128880, number of used features: 470\n",
      "[LightGBM] [Info] Start training from score -0.000071\n",
      "------------\n",
      "\n",
      "Training 10\n",
      "[LightGBM] [Warning] Auto-choosing row-wise multi-threading, the overhead of testing was 0.069167 seconds.\n",
      "You can set `force_row_wise=true` to remove the overhead.\n",
      "And if memory is not enough, you can set `force_col_wise=true`.\n",
      "[LightGBM] [Info] Total Bins 119850\n",
      "[LightGBM] [Info] Number of data points in the train set: 128880, number of used features: 470\n",
      "[LightGBM] [Info] Start training from score -0.000021\n",
      "------------\n",
      "\n",
      "Training 11\n",
      "[LightGBM] [Warning] Auto-choosing row-wise multi-threading, the overhead of testing was 0.076391 seconds.\n",
      "You can set `force_row_wise=true` to remove the overhead.\n",
      "And if memory is not enough, you can set `force_col_wise=true`.\n",
      "[LightGBM] [Info] Total Bins 119850\n",
      "[LightGBM] [Info] Number of data points in the train set: 128880, number of used features: 470\n",
      "[LightGBM] [Info] Start training from score 0.000022\n",
      "------------\n",
      "\n",
      "Training 12\n",
      "[LightGBM] [Warning] Auto-choosing row-wise multi-threading, the overhead of testing was 0.064855 seconds.\n",
      "You can set `force_row_wise=true` to remove the overhead.\n",
      "And if memory is not enough, you can set `force_col_wise=true`.\n",
      "[LightGBM] [Info] Total Bins 119850\n",
      "[LightGBM] [Info] Number of data points in the train set: 128880, number of used features: 470\n",
      "[LightGBM] [Info] Start training from score -0.000092\n",
      "------------\n",
      "\n",
      "Training 13\n",
      "[LightGBM] [Warning] Auto-choosing row-wise multi-threading, the overhead of testing was 0.069614 seconds.\n",
      "You can set `force_row_wise=true` to remove the overhead.\n",
      "And if memory is not enough, you can set `force_col_wise=true`.\n",
      "[LightGBM] [Info] Total Bins 119850\n",
      "[LightGBM] [Info] Number of data points in the train set: 128880, number of used features: 470\n",
      "[LightGBM] [Info] Start training from score -0.000064\n",
      "------------\n",
      "\n",
      "Training for 13 done\n",
      "------------\n",
      "\n"
     ]
    }
   ],
   "source": [
    "cryptoDart.train()"
   ]
  },
  {
   "cell_type": "code",
   "execution_count": 11,
   "id": "a4ece1f2-cd45-4010-a7b3-f878b89c306b",
   "metadata": {},
   "outputs": [
    {
     "name": "stdout",
     "output_type": "stream",
     "text": [
      "Running test\n"
     ]
    }
   ],
   "source": [
    "cryptoDart.run_full_test()"
   ]
  },
  {
   "cell_type": "code",
   "execution_count": 22,
   "id": "1d8f394f-0186-4968-ac9c-6e958febaef8",
   "metadata": {},
   "outputs": [],
   "source": [
    "cryptoDart.save_models(model_save_dir, base_name)"
   ]
  },
  {
   "cell_type": "code",
   "execution_count": 27,
   "id": "4dc2f2c9-f8f8-427f-990e-c85fb5d8630d",
   "metadata": {},
   "outputs": [],
   "source": [
    "cryptoDart.save_test_results(result_save_path)"
   ]
  },
  {
   "cell_type": "code",
   "execution_count": 13,
   "id": "80c79898-5774-47b5-9810-313ebd3c087f",
   "metadata": {},
   "outputs": [
    {
     "name": "stdout",
     "output_type": "stream",
     "text": [
      "Done with fold 8, test competition score 0.026152597060158517\n"
     ]
    }
   ],
   "source": [
    "print(f'Done with fold {fold}, test competition score {cryptoDart.test_score}')"
   ]
  },
  {
   "cell_type": "markdown",
   "id": "41a28704-e81c-4956-b30e-db44cc7754c4",
   "metadata": {},
   "source": [
    "# Eval"
   ]
  },
  {
   "cell_type": "code",
   "execution_count": null,
   "id": "a1ee416e-5840-4222-83d1-b8a176ae8ef5",
   "metadata": {},
   "outputs": [],
   "source": [
    "prediction = dart.predict(btc_train[features])"
   ]
  },
  {
   "cell_type": "code",
   "execution_count": null,
   "id": "25f82cfe-cdaa-4632-9870-f54efd02973f",
   "metadata": {},
   "outputs": [],
   "source": [
    "stats.pearsonr(prediction, btc_train.Target.values)"
   ]
  },
  {
   "cell_type": "code",
   "execution_count": null,
   "id": "daa428bd-20ae-4b75-9fe4-4908a451aa4c",
   "metadata": {},
   "outputs": [],
   "source": [
    "sns.scatterplot(x= btc_train.Target.values, y=prediction)"
   ]
  },
  {
   "cell_type": "markdown",
   "id": "5f957eaa-92f2-413e-850a-ba514ef8bbbb",
   "metadata": {},
   "source": [
    "# Out of sample"
   ]
  },
  {
   "cell_type": "code",
   "execution_count": null,
   "id": "7ced2ae1-dead-4f40-9af8-e521c72c0847",
   "metadata": {},
   "outputs": [],
   "source": [
    "prediction = dart.predict(btc_test[features])"
   ]
  },
  {
   "cell_type": "code",
   "execution_count": null,
   "id": "9828ef0b-f3be-4858-8c7e-98cadd20bfef",
   "metadata": {},
   "outputs": [],
   "source": [
    "stats.pearsonr(prediction, btc_test.Target.values)"
   ]
  },
  {
   "cell_type": "code",
   "execution_count": null,
   "id": "38df2723-7174-4b2a-bf4f-74110f2705a8",
   "metadata": {},
   "outputs": [],
   "source": [
    "sns.scatterplot(x= btc_test.Target.values, y=prediction)"
   ]
  },
  {
   "cell_type": "markdown",
   "id": "a6a32a0f-0f3f-4c3c-a3c2-5d25b0c5185c",
   "metadata": {},
   "source": [
    "# Shap"
   ]
  },
  {
   "cell_type": "code",
   "execution_count": null,
   "id": "cf6b23bb-7b33-41c4-a2fe-5413d1201779",
   "metadata": {},
   "outputs": [],
   "source": [
    "shap_values = shap.TreeExplainer(dart).shap_values(btc_valid[features])"
   ]
  },
  {
   "cell_type": "code",
   "execution_count": null,
   "id": "362937cc-e5a5-4dd0-839c-edc021ce457e",
   "metadata": {},
   "outputs": [],
   "source": [
    "shap.summary_plot(shap_values, btc_valid[features])"
   ]
  },
  {
   "cell_type": "code",
   "execution_count": null,
   "id": "b7761280-1bde-4a99-81bb-d2788338bb70",
   "metadata": {},
   "outputs": [],
   "source": []
  }
 ],
 "metadata": {
  "kernelspec": {
   "display_name": "Crypto Research",
   "language": "python",
   "name": "crypto"
  },
  "language_info": {
   "codemirror_mode": {
    "name": "ipython",
    "version": 3
   },
   "file_extension": ".py",
   "mimetype": "text/x-python",
   "name": "python",
   "nbconvert_exporter": "python",
   "pygments_lexer": "ipython3",
   "version": "3.9.7"
  }
 },
 "nbformat": 4,
 "nbformat_minor": 5
}
