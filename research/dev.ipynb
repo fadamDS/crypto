{
 "cells": [
  {
   "cell_type": "code",
   "execution_count": 1,
   "id": "6f7f2293-37e3-431c-83e4-36897bd46b87",
   "metadata": {},
   "outputs": [],
   "source": [
    "%load_ext autoreload\n",
    "%autoreload"
   ]
  },
  {
   "cell_type": "code",
   "execution_count": 2,
   "id": "538a0ecd-bba2-4f95-bf6b-3962abf0486c",
   "metadata": {},
   "outputs": [],
   "source": [
    "import sys\n",
    "sys.path.append(\"../\")"
   ]
  },
  {
   "cell_type": "code",
   "execution_count": 4,
   "id": "548a12a0-982b-403a-968f-c2098bc17fdb",
   "metadata": {},
   "outputs": [],
   "source": [
    "import numpy as np\n",
    "import pandas as pd\n",
    "import seaborn as sns\n",
    "import os\n",
    "from datetime import datetime\n",
    "import matplotlib.pyplot as plt\n",
    "from src.evaluation import *\n",
    "from src.utils import load_fold, assets, non_train_cols, load_gresearch_raw\n",
    "from src.features import engineer_all_features\n",
    "from src.models import BaseCryptoLearner\n",
    "plt.rcParams[\"figure.figsize\"] = (16,9)"
   ]
  },
  {
   "cell_type": "code",
   "execution_count": 5,
   "id": "37c1a7e3-4012-46eb-89ce-79235a6b8ee9",
   "metadata": {},
   "outputs": [],
   "source": [
    "from scipy import stats\n",
    "import shap\n",
    "import lightgbm as lgb"
   ]
  },
  {
   "cell_type": "code",
   "execution_count": 6,
   "id": "6b061f6d-d96e-4a6c-9632-7a062c0f21e3",
   "metadata": {},
   "outputs": [],
   "source": [
    "supplemental_train = pd.read_csv('../data/gresearch/raw/supplemental_train.csv')"
   ]
  },
  {
   "cell_type": "code",
   "execution_count": 7,
   "id": "95b7524d-e310-4f4a-a66c-6d12f05bec97",
   "metadata": {},
   "outputs": [],
   "source": [
    "example_test = pd.read_csv('../data/gresearch/raw/example_test.csv')\n"
   ]
  },
  {
   "cell_type": "code",
   "execution_count": 8,
   "id": "62801de2-822f-47ca-853c-88213c0d9f29",
   "metadata": {},
   "outputs": [],
   "source": [
    "asset_info = pd.read_csv('../data/gresearch/raw/asset_details.csv')"
   ]
  },
  {
   "cell_type": "code",
   "execution_count": 9,
   "id": "8e0399c5-68ff-450d-befc-76d00bfebfeb",
   "metadata": {},
   "outputs": [],
   "source": [
    "bst = lgb.Booster(model_file='../models/lgbmBaseline.txt')"
   ]
  },
  {
   "cell_type": "markdown",
   "id": "afe56810-dcd8-4c1a-a5ad-0659260f5d47",
   "metadata": {},
   "source": [
    "# Fast Feature Calculation "
   ]
  },
  {
   "cell_type": "markdown",
   "id": "e373b090-401e-4afe-ae36-99bdc77a1449",
   "metadata": {},
   "source": [
    "- Goal is to have a very fast feature calculation on the fly in the prediction loop\n",
    "- Should also be usable in the training routine\n",
    "- Row wise feature creation\n",
    "- has to be able to create all relevant features on the fly "
   ]
  },
  {
   "cell_type": "code",
   "execution_count": 10,
   "id": "d8d18fed-795f-41bd-949d-e9574193fbb7",
   "metadata": {},
   "outputs": [],
   "source": [
    "# OHLCV Features\n",
    "def fast_ohlcv_features(df, out_features):\n",
    "    \n",
    "    out_features[0] = df['Count']\n",
    "    out_features[1] = df['Open']\n",
    "    out_features[2] = df['High']\n",
    "    out_features[3] = df['Low']\n",
    "    out_features[4] = df['Close']\n",
    "    out_features[5] = df['Volume']\n",
    "    out_features[6] = df['VWAP']\n",
    "    out_features[7] = (df.Close - df.Open) / df.Open\n",
    "    out_features[8] = (np.log(df.Close / df.Open))\n",
    "    out_features[9] = (df.High / df.Low)\n",
    "    \n",
    "    return out_features\n",
    "\n",
    "# Relative change features\n",
    "def fast_relative_features(feature_array, columns, period, out_features):\n",
    "    \n",
    "    for j in columns:\n",
    "        \n",
    "        value = np.log(feature_array[0, j] /\n",
    "                       feature_array[-period, j])\n",
    "        i = np.min(np.where(np.isnan(current_features)))\n",
    "        out_features[i]= value\n",
    "    \n",
    "    return out_features\n",
    "\n",
    "def fast_lagged_features(feature_array, columns, period, out_features):\n",
    "    \n",
    "    for j in columns:\n",
    "        value = feature_array[-period, j]\n",
    "        i = np.min(np.where(np.isnan(current_features)))\n",
    "        out_features[i]= value\n",
    "        \n",
    "    return out_features"
   ]
  },
  {
   "cell_type": "code",
   "execution_count": 25,
   "id": "6a327e25-c9b1-4b9f-b28c-456d7101e360",
   "metadata": {},
   "outputs": [
    {
     "name": "stdout",
     "output_type": "stream",
     "text": [
      "(924, 10)\n",
      "CPU times: user 350 ms, sys: 50.9 ms, total: 401 ms\n",
      "Wall time: 400 ms\n"
     ]
    }
   ],
   "source": [
    "%%time\n",
    "pred_time = supplemental_train.timestamp.max()\n",
    "test_df = supplemental_train[supplemental_train.timestamp==pred_time]\n",
    "data = supplemental_train[supplemental_train.timestamp<pred_time]\n",
    "# Constants\n",
    "max_lag = 5\n",
    "max_relative = 60\n",
    "max_lookback_minutes = max_relative + max_lag\n",
    "\n",
    "max_lookback = data.timestamp.max() - (max_lookback_minutes * 60)\n",
    "current_data = data[data.timestamp>=max_lookback]\n",
    "print(current_data.shape)\n",
    "\n",
    "\n",
    "# Initialize the feature array using pandas\n",
    "features = []\n",
    "for asset_id in assets:\n",
    "    asset = current_data[current_data.Asset_ID == asset_id]\n",
    "    asset_features = engineer_all_features(asset).iloc[:,2:]\n",
    "    features.append(asset_features.values)\n",
    "features = np.array(features)"
   ]
  },
  {
   "cell_type": "code",
   "execution_count": 154,
   "id": "b1dca647-f135-4690-b6f4-5c1900bf9d86",
   "metadata": {},
   "outputs": [],
   "source": [
    "\n",
    "# From engineer_all_features\n",
    "relative_cols = ['Count', 'Open',\n",
    "                 'High', 'Low', 'Close',\n",
    "                 'Volume', 'VWAP']\n",
    "\n",
    "lagged_cols = ['direct_return', 'log_return', 'high_low_ratio',\n",
    "                   'log_change_Count_1min', 'log_change_Open_1min',\n",
    "                   'log_change_High_1min', 'log_change_Low_1min',\n",
    "                   'log_change_Close_1min',\n",
    "                   'log_change_Volume_1min', 'log_change_VWAP_1min']\n",
    "\n",
    "\n",
    "relative_periods = [1, 60]\n",
    "lagged_periods = [1, 2, 3, 4, 5]\n",
    "\n"
   ]
  },
  {
   "cell_type": "markdown",
   "id": "6d17bddb-294a-4e93-bfe9-230f4160e4a1",
   "metadata": {},
   "source": [
    "To DO: Keep track of the timestamps and backfill"
   ]
  },
  {
   "cell_type": "code",
   "execution_count": 190,
   "id": "bac6498a-8906-4698-9d9a-26141d8b447b",
   "metadata": {},
   "outputs": [
    {
     "name": "stdout",
     "output_type": "stream",
     "text": [
      "CPU times: user 87.7 ms, sys: 32.2 ms, total: 120 ms\n",
      "Wall time: 47.1 ms\n"
     ]
    }
   ],
   "source": [
    "%%time\n",
    "new_features = []\n",
    "predictions = []\n",
    "for asset_id in assets:\n",
    "    \n",
    "    asset = test_df[test_df.Asset_ID == asset_id].iloc[0]\n",
    "\n",
    "    asset_features = features[asset_id]\n",
    "\n",
    "    current_features = np.repeat(np.nan, repeats=features.shape[2])\n",
    "\n",
    "    current_features = fast_ohlcv_features(asset, current_features)\n",
    "\n",
    "    # Relative change features\n",
    "    for period in relative_periods:\n",
    "        current_features = fast_relative_features(asset_features,\n",
    "                                                  columns=np.where(np.isin(feature_names,relative_cols))[0],\n",
    "                                                  period=period,\n",
    "                                                  out_features=current_features)\n",
    "\n",
    "    # Lagged features\n",
    "    for period in lagged_periods:\n",
    "        current_features = fast_lagged_features(asset_features,\n",
    "                                                np.where(np.isin(feature_names,lagged_cols))[0],\n",
    "                                                period=period,\n",
    "                                                out_features=current_features)\n",
    "    # Predict\n",
    "    current_features = np.array(current_features)\n",
    "    \n",
    "    # Append data\n",
    "    predictions.append(bst.predict(np.array(current_features).reshape(1,-1))[0])\n",
    "    new_features.append(current_features)\n",
    "\n",
    "new_features = np.array(new_features)\n",
    "\n",
    "# Append to old array and shift\n",
    "features[:,-1,:] = new_features\n",
    "features = features[:,1:,:]\n",
    "\n",
    "# Make prediction dataframe"
   ]
  },
  {
   "cell_type": "code",
   "execution_count": 191,
   "id": "e1c6d521-8f10-4157-bbb9-ec2d9dd9d5d0",
   "metadata": {},
   "outputs": [
    {
     "name": "stdout",
     "output_type": "stream",
     "text": [
      "CPU times: user 303 ms, sys: 3.92 ms, total: 307 ms\n",
      "Wall time: 306 ms\n"
     ]
    }
   ],
   "source": [
    "%%time\n",
    "for asset_id in assets:\n",
    "    engineer_all_features(current_data)"
   ]
  },
  {
   "cell_type": "markdown",
   "id": "6033ecde-db29-4a8a-9066-ec23b7950c90",
   "metadata": {},
   "source": [
    "# Fitting"
   ]
  },
  {
   "cell_type": "code",
   "execution_count": null,
   "id": "fb2c9ba9-c898-421e-93e5-9d43dd3c42e9",
   "metadata": {},
   "outputs": [],
   "source": [
    "# Load training data \n",
    "train_dir = '../data/gresearch/processed/fold_6/train/'\n",
    "test_dir = '../data/gresearch/processed/fold_6/test/'"
   ]
  },
  {
   "cell_type": "code",
   "execution_count": null,
   "id": "18813ae1-461f-42ed-9790-3e91fd67c821",
   "metadata": {},
   "outputs": [],
   "source": [
    "train_df = load_fold(train_dir)\n",
    "test_df = load_fold(test_dir)"
   ]
  },
  {
   "cell_type": "code",
   "execution_count": null,
   "id": "bb869172-cab4-4b37-b0ab-a60ef088dafd",
   "metadata": {},
   "outputs": [],
   "source": [
    "feature_cols = np.array([col for col in train_df.columns[4:]])\n",
    "target_col = ['Target']"
   ]
  },
  {
   "cell_type": "code",
   "execution_count": null,
   "id": "c753c083-9dc9-491f-b668-c3221b7d6117",
   "metadata": {},
   "outputs": [],
   "source": [
    "lgb_train_data = lgb.Dataset(train_df[feature_cols],\n",
    "                             label=train_df[target_col])"
   ]
  },
  {
   "cell_type": "code",
   "execution_count": null,
   "id": "4621d310-992f-406f-8baf-21ed422fc67e",
   "metadata": {},
   "outputs": [],
   "source": [
    "param = {'objective': 'regression', 'metric': 'mae'}\n",
    "num_round = 20\n",
    "\n",
    "bst = lgb.train(param, lgb_train_data, num_round)"
   ]
  },
  {
   "cell_type": "code",
   "execution_count": null,
   "id": "6bdec360-8f27-474e-bf87-e040abb2870f",
   "metadata": {},
   "outputs": [],
   "source": [
    "# Save model\n",
    "bst.save_model('../models/lgbmBaseline.txt')"
   ]
  },
  {
   "cell_type": "code",
   "execution_count": null,
   "id": "e89453cd-84db-4ff0-8c27-f002f7d14d26",
   "metadata": {},
   "outputs": [],
   "source": [
    "feature_cols = np.array([col for col in train_df.columns[4:]])\n",
    "target_col = ['Target']"
   ]
  },
  {
   "cell_type": "code",
   "execution_count": null,
   "id": "5712a358-1140-4fed-a783-4c925bd13ea3",
   "metadata": {},
   "outputs": [],
   "source": [
    "feature_cols"
   ]
  },
  {
   "cell_type": "code",
   "execution_count": null,
   "id": "6dddb755-8861-4010-aa07-3d314daa73bc",
   "metadata": {},
   "outputs": [],
   "source": [
    "lgb_train_data = lgb.Dataset(train_df[feature_cols],\n",
    "                             label=train_df[target_col])"
   ]
  },
  {
   "cell_type": "code",
   "execution_count": null,
   "id": "31fae3a8-1df7-4a16-8481-7b0615f4a9de",
   "metadata": {},
   "outputs": [],
   "source": [
    "param = {'objective': 'regression', 'metric': 'mae'}\n",
    "num_round = 20\n",
    "\n",
    "bst = lgb.train(param, lgb_train_data, num_round)"
   ]
  },
  {
   "cell_type": "code",
   "execution_count": null,
   "id": "361f91a4-a661-4a5a-8a12-57934232af08",
   "metadata": {},
   "outputs": [],
   "source": [
    "# Save model\n",
    "bst.save_model('../models/lgbmBaseline.txt')"
   ]
  },
  {
   "cell_type": "code",
   "execution_count": null,
   "id": "4ea2701d-dab2-4a07-b740-da39d471f902",
   "metadata": {},
   "outputs": [],
   "source": [
    "pred = pd.DataFrame({'Asset_ID': train_df.Asset_ID,\n",
    "                     'timestamp': train_df.timestamp})\n",
    "\n",
    "pred['prediction'] = bst.predict(train_df[feature_cols])\n",
    "\n",
    "\n",
    "test = train_df[['Target', 'Weight', 'timestamp', 'Asset_ID']].merge(\n",
    "    pred, on=['timestamp', 'Asset_ID'], how='left').fillna(0)\n",
    "\n",
    "score = corr_score(test.Target, test.prediction, test.Weight)\n",
    "print(score)"
   ]
  },
  {
   "cell_type": "code",
   "execution_count": null,
   "id": "f029160e-51f7-426e-a9ae-0fd13a98640c",
   "metadata": {},
   "outputs": [],
   "source": [
    "sns.scatterplot(test.Target, test.prediction)"
   ]
  },
  {
   "cell_type": "code",
   "execution_count": null,
   "id": "89f0a146-a355-44dd-82a9-45abdc3846c3",
   "metadata": {},
   "outputs": [],
   "source": [
    "# Out of sample\n",
    "pred = pd.DataFrame({'Asset_ID': test_df.Asset_ID,\n",
    "                     'timestamp': test_df.timestamp})\n",
    "\n",
    "pred['prediction'] = bst.predict(test_df[feature_cols])\n",
    "\n",
    "\n",
    "test = test_df[['Target', 'Weight', 'timestamp', 'Asset_ID']].merge(\n",
    "    pred, on=['timestamp', 'Asset_ID'], how='left').fillna(0)\n",
    "\n",
    "score = corr_score(test.Target, test.prediction, test.Weight)\n",
    "print(score)"
   ]
  },
  {
   "cell_type": "code",
   "execution_count": null,
   "id": "3be7024d-7928-40f6-b2c2-e703efdab938",
   "metadata": {},
   "outputs": [],
   "source": [
    "stats.pearsonr(test.Target,test.prediction)"
   ]
  },
  {
   "cell_type": "code",
   "execution_count": null,
   "id": "6ccb6f44-d886-48e8-9cd6-211e971017d7",
   "metadata": {},
   "outputs": [],
   "source": [
    "sns.scatterplot(test.Target, test.prediction)"
   ]
  },
  {
   "cell_type": "code",
   "execution_count": null,
   "id": "31f70d01-a4dd-4172-8029-106f14625c6d",
   "metadata": {},
   "outputs": [],
   "source": [
    "np.corrcoef((test.Target,test.prediction))"
   ]
  },
  {
   "cell_type": "code",
   "execution_count": null,
   "id": "b59b6e94-cb05-4d18-9d68-2a8d52084886",
   "metadata": {},
   "outputs": [],
   "source": [
    "shap_values = shap.TreeExplainer(bst).shap_values(train_df[feature_cols])"
   ]
  },
  {
   "cell_type": "code",
   "execution_count": null,
   "id": "457231bc-166e-4776-8f54-4b3143b75bb3",
   "metadata": {},
   "outputs": [],
   "source": [
    "shap.summary_plot(shap_values, train_df[feature_cols])"
   ]
  },
  {
   "cell_type": "code",
   "execution_count": null,
   "id": "00608d5e-0c7c-48ba-888a-a5ac1e9a15a3",
   "metadata": {},
   "outputs": [],
   "source": [
    "sns.scatterplot(x='log_change_High_60min', y='Target', data=train_df)"
   ]
  },
  {
   "cell_type": "code",
   "execution_count": null,
   "id": "c495fba6-9783-4d86-afce-f53effe5af80",
   "metadata": {},
   "outputs": [],
   "source": [
    "sns.histplot(train_df.Target)"
   ]
  },
  {
   "cell_type": "code",
   "execution_count": null,
   "id": "e20a914f-25c5-4769-9c40-df7cb6167ae4",
   "metadata": {},
   "outputs": [],
   "source": []
  }
 ],
 "metadata": {
  "kernelspec": {
   "display_name": "Crypto Research",
   "language": "python",
   "name": "crypto"
  },
  "language_info": {
   "codemirror_mode": {
    "name": "ipython",
    "version": 3
   },
   "file_extension": ".py",
   "mimetype": "text/x-python",
   "name": "python",
   "nbconvert_exporter": "python",
   "pygments_lexer": "ipython3",
   "version": "3.9.7"
  }
 },
 "nbformat": 4,
 "nbformat_minor": 5
}
