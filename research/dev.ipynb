{
 "cells": [
  {
   "cell_type": "code",
   "execution_count": 1,
   "id": "6f7f2293-37e3-431c-83e4-36897bd46b87",
   "metadata": {},
   "outputs": [],
   "source": [
    "%load_ext autoreload\n",
    "%autoreload"
   ]
  },
  {
   "cell_type": "code",
   "execution_count": 2,
   "id": "538a0ecd-bba2-4f95-bf6b-3962abf0486c",
   "metadata": {},
   "outputs": [],
   "source": [
    "import sys\n",
    "sys.path.append(\"../\")"
   ]
  },
  {
   "cell_type": "code",
   "execution_count": 4,
   "id": "548a12a0-982b-403a-968f-c2098bc17fdb",
   "metadata": {
    "tags": []
   },
   "outputs": [],
   "source": [
    "import numpy as np\n",
    "import pandas as pd\n",
    "import seaborn as sns\n",
    "import os\n",
    "from datetime import datetime\n",
    "import matplotlib.pyplot as plt\n",
    "from src.evaluation import *\n",
    "from src.utils import load_fold, assets, non_train_cols, load_gresearch_raw\n",
    "from src.features import engineer_all_features\n",
    "from src.models import BaseCryptoLearner\n",
    "plt.rcParams[\"figure.figsize\"] = (16,9)\n",
    "from tqdm import tqdm"
   ]
  },
  {
   "cell_type": "code",
   "execution_count": 5,
   "id": "37c1a7e3-4012-46eb-89ce-79235a6b8ee9",
   "metadata": {},
   "outputs": [],
   "source": [
    "from scipy import stats\n",
    "import shap\n",
    "import lightgbm as lgb"
   ]
  },
  {
   "cell_type": "code",
   "execution_count": 6,
   "id": "6b061f6d-d96e-4a6c-9632-7a062c0f21e3",
   "metadata": {
    "tags": []
   },
   "outputs": [],
   "source": [
    "train = pd.read_csv('../data/gresearch/raw/train.csv')"
   ]
  },
  {
   "cell_type": "code",
   "execution_count": 47,
   "id": "61d4827b-a9ba-477d-8dda-e1ce09acf846",
   "metadata": {},
   "outputs": [],
   "source": [
    "train['timestamp_1'] = pd.to_datetime(train.timestamp, unit='s')\n",
    "data = train[(train.timestamp_1 > pd.to_datetime('2021-06-11 00:00:00')) &\n",
    "             (train.timestamp_1 <= pd.to_datetime('2021-06-13 00:00:00'))].copy()\n",
    "full_test_df = train[(train.timestamp_1 > pd.to_datetime('2021-06-13 00:00:00'))].copy()\n",
    "\n",
    "# Get test timestamps -> This is what we loop over\n",
    "test_timestamps = np.arange(full_test_df.timestamp.min(), full_test_df.timestamp.max() + 60, 60)"
   ]
  },
  {
   "cell_type": "code",
   "execution_count": 48,
   "id": "24ac09f2-774a-4b73-a170-0d4b06f62a05",
   "metadata": {},
   "outputs": [],
   "source": [
    "full_test_df['row_id'] = np.arange(0,full_test_df.shape[0],1)"
   ]
  },
  {
   "cell_type": "code",
   "execution_count": 49,
   "id": "336f0775-eccb-4883-87d4-d2c8402d1fe7",
   "metadata": {},
   "outputs": [],
   "source": [
    "full_test_df['Target'] = 0"
   ]
  },
  {
   "cell_type": "code",
   "execution_count": 8,
   "id": "62801de2-822f-47ca-853c-88213c0d9f29",
   "metadata": {},
   "outputs": [],
   "source": [
    "asset_info = pd.read_csv('../data/gresearch/raw/asset_details.csv')"
   ]
  },
  {
   "cell_type": "code",
   "execution_count": 9,
   "id": "8e0399c5-68ff-450d-befc-76d00bfebfeb",
   "metadata": {},
   "outputs": [],
   "source": [
    "bst = lgb.Booster(model_file='../models/lgbmBaseline.txt')"
   ]
  },
  {
   "cell_type": "markdown",
   "id": "afe56810-dcd8-4c1a-a5ad-0659260f5d47",
   "metadata": {},
   "source": [
    "# Fast Feature Calculation "
   ]
  },
  {
   "cell_type": "markdown",
   "id": "e373b090-401e-4afe-ae36-99bdc77a1449",
   "metadata": {},
   "source": [
    "- Mock submission by looping through the data from submission period"
   ]
  },
  {
   "cell_type": "code",
   "execution_count": 10,
   "id": "d8d18fed-795f-41bd-949d-e9574193fbb7",
   "metadata": {},
   "outputs": [],
   "source": [
    "# OHLCV Features\n",
    "def fast_ohlcv_features(df, out_features):\n",
    "    \n",
    "    out_features[0] = df['Count']\n",
    "    out_features[1] = df['Open']\n",
    "    out_features[2] = df['High']\n",
    "    out_features[3] = df['Low']\n",
    "    out_features[4] = df['Close']\n",
    "    out_features[5] = df['Volume']\n",
    "    out_features[6] = df['VWAP']\n",
    "    out_features[7] = (df.Close - df.Open) / df.Open\n",
    "    out_features[8] = (np.log(df.Close / df.Open))\n",
    "    out_features[9] = (df.High / df.Low)\n",
    "    \n",
    "    return out_features\n",
    "\n",
    "# Relative change features\n",
    "def fast_relative_features(feature_array, columns, period, out_features):\n",
    "    \n",
    "    for j in columns:\n",
    "        \n",
    "        value = np.log(feature_array[0, j] /\n",
    "                       feature_array[-period, j])\n",
    "        i = np.min(np.where(np.isnan(current_features)))\n",
    "        out_features[i]= value\n",
    "    \n",
    "    return out_features\n",
    "\n",
    "def fast_lagged_features(feature_array, columns, period, out_features):\n",
    "    \n",
    "    for j in columns:\n",
    "        value = feature_array[-period, j]\n",
    "        i = np.min(np.where(np.isnan(current_features)))\n",
    "        out_features[i]= value\n",
    "        \n",
    "    return out_features"
   ]
  },
  {
   "cell_type": "code",
   "execution_count": 11,
   "id": "cbb7ee44-6dae-4f1b-95d1-f9e7468db6f1",
   "metadata": {},
   "outputs": [],
   "source": [
    "# From engineer_all_features\n",
    "relative_cols = ['Count', 'Open',\n",
    "                 'High', 'Low', 'Close',\n",
    "                 'Volume', 'VWAP']\n",
    "\n",
    "lagged_cols = ['direct_return', 'log_return', 'high_low_ratio',\n",
    "                   'log_change_Count_1min', 'log_change_Open_1min',\n",
    "                   'log_change_High_1min', 'log_change_Low_1min',\n",
    "                   'log_change_Close_1min',\n",
    "                   'log_change_Volume_1min', 'log_change_VWAP_1min']\n",
    "\n",
    "\n",
    "relative_periods = [1, 60]\n",
    "lagged_periods = [1, 2, 3, 4, 5]\n",
    "feature_names = bst.feature_name()"
   ]
  },
  {
   "cell_type": "code",
   "execution_count": 69,
   "id": "6a327e25-c9b1-4b9f-b28c-456d7101e360",
   "metadata": {},
   "outputs": [
    {
     "name": "stdout",
     "output_type": "stream",
     "text": [
      "(923, 11)\n",
      "CPU times: user 340 ms, sys: 8.74 ms, total: 349 ms\n",
      "Wall time: 356 ms\n"
     ]
    }
   ],
   "source": [
    "%%time\n",
    "\n",
    "# Constants\n",
    "max_lag = 5\n",
    "max_relative = 60\n",
    "max_lookback_minutes = max_relative + max_lag\n",
    "\n",
    "max_lookback = data.timestamp.max() - (max_lookback_minutes * 60)\n",
    "current_data = data[data.timestamp>=max_lookback]\n",
    "print(current_data.shape)\n",
    "\n",
    "# For handling missing timestamps\n",
    "timestamp_series = pd.DataFrame(index=np.sort(current_data.timestamp.unique()))\n",
    "\n",
    "\n",
    "\n",
    "# Initialize the feature array using pandas\n",
    "features = []\n",
    "for asset_id in assets:\n",
    "    asset = current_data[current_data.Asset_ID == asset_id]\n",
    "    if not np.all(timestamp_series.index.isin(asset.timestamp)):\n",
    "        # Backfill with timestamp\n",
    "        asset = timestamp_series.merge(asset, left_index=True, right_on='timestamp', how='left').fillna(method='ffill', axis=0)\n",
    "    asset_features = engineer_all_features(asset).iloc[:,2:]\n",
    "    features.append(asset_features.values)\n",
    "features = np.array(features)\n",
    "original_shape = features.shape"
   ]
  },
  {
   "cell_type": "markdown",
   "id": "6d17bddb-294a-4e93-bfe9-230f4160e4a1",
   "metadata": {},
   "source": [
    "To DO: Keep track of the timestamps and backfill"
   ]
  },
  {
   "cell_type": "code",
   "execution_count": 71,
   "id": "82235e9f-9929-400e-b871-9b0e8ee14de0",
   "metadata": {},
   "outputs": [],
   "source": [
    "# Empty initialization period \n",
    "features = np.repeat(np.nan, 14 * 66 * 74).reshape(14,66,74)"
   ]
  },
  {
   "cell_type": "code",
   "execution_count": null,
   "id": "39c99fe8-009f-4915-af8a-f88258843d64",
   "metadata": {},
   "outputs": [
    {
     "name": "stderr",
     "output_type": "stream",
     "text": [
      "  0%|                                                                                                                                                               | 46/144000 [00:02<2:06:28, 18.97it/s]"
     ]
    }
   ],
   "source": [
    "submissions = []\n",
    "\n",
    "# Outer loop over timestamps\n",
    "for ts in tqdm(test_timestamps):\n",
    "\n",
    "    test_df = full_test_df[full_test_df.timestamp==ts]\n",
    "    prediction_df = full_test_df[full_test_df.timestamp==ts][['row_id', 'Target']]\n",
    "    \n",
    "    new_features = []\n",
    "    \n",
    "    for asset_id in assets:\n",
    "        \n",
    "        # Check if asset in test_df, if not forward fill \n",
    "        if not asset_id in test_df.Asset_ID.values:\n",
    "            new_features.append(features[asset_id][-1].reshape(1,-1))\n",
    "            continue\n",
    "        \n",
    "        asset = test_df[test_df.Asset_ID == asset_id].iloc[0]\n",
    "        \n",
    "        row_id = asset['row_id']\n",
    "        \n",
    "        asset_features = features[asset_id]\n",
    "        \n",
    "        current_features = np.repeat(np.nan, repeats=features.shape[2])\n",
    "\n",
    "        current_features = fast_ohlcv_features(asset, current_features)\n",
    "\n",
    "        # Relative change features\n",
    "        for period in relative_periods:\n",
    "            current_features = fast_relative_features(asset_features,\n",
    "                                                      columns=np.where(np.isin(feature_names,relative_cols))[0],\n",
    "                                                      period=period,\n",
    "                                                      out_features=current_features)\n",
    "\n",
    "        # Lagged features\n",
    "        for period in lagged_periods:\n",
    "            current_features = fast_lagged_features(asset_features,\n",
    "                                                    np.where(np.isin(feature_names,lagged_cols))[0],\n",
    "                                                    period=period,\n",
    "                                                    out_features=current_features)\n",
    "        # Predict\n",
    "        current_features = np.array(current_features).reshape(1,-1)\n",
    "        \n",
    "        pred = bst.predict(np.array(current_features))[0]\n",
    "        prediction_df.loc[prediction_df.row_id == row_id, 'Target'] = pred\n",
    "        \n",
    "        # Append data\n",
    "        new_features.append(current_features)\n",
    "\n",
    "    new_features = np.array(new_features)\n",
    "\n",
    "    # Append to old array and shift one forward\n",
    "    features = np.append(features, new_features,axis=1)\n",
    "    features = features[:,1:,:]\n",
    "    \n",
    "    assert(features.shape == original_shape)\n",
    "    \n",
    "    submissions.append(prediction_df)\n",
    "    #env.predict(prediction_df.dropna(axis=0, subset=['row_id']))\n",
    "    "
   ]
  },
  {
   "cell_type": "code",
   "execution_count": 62,
   "id": "59730267-bc35-45f4-8fc3-6200e76e52a1",
   "metadata": {},
   "outputs": [],
   "source": [
    "submission_df = pd.concat(submissions)"
   ]
  },
  {
   "cell_type": "code",
   "execution_count": 67,
   "id": "bf82e765-3c41-470f-9638-a07dc63d4d69",
   "metadata": {},
   "outputs": [
    {
     "data": {
      "text/plain": [
       "False"
      ]
     },
     "execution_count": 67,
     "metadata": {},
     "output_type": "execute_result"
    }
   ],
   "source": [
    "submission_df.row_id.isna().any()"
   ]
  },
  {
   "cell_type": "code",
   "execution_count": 64,
   "id": "9d926d7f-fff9-4cad-81a9-f84553e1992f",
   "metadata": {},
   "outputs": [
    {
     "data": {
      "text/plain": [
       "False"
      ]
     },
     "execution_count": 64,
     "metadata": {},
     "output_type": "execute_result"
    }
   ],
   "source": [
    "submission_df.Target.isna().any()"
   ]
  },
  {
   "cell_type": "markdown",
   "id": "6033ecde-db29-4a8a-9066-ec23b7950c90",
   "metadata": {},
   "source": [
    "# Fitting"
   ]
  },
  {
   "cell_type": "code",
   "execution_count": null,
   "id": "fb2c9ba9-c898-421e-93e5-9d43dd3c42e9",
   "metadata": {},
   "outputs": [],
   "source": [
    "# Load training data \n",
    "train_dir = '../data/gresearch/processed/fold_6/train/'\n",
    "test_dir = '../data/gresearch/processed/fold_6/test/'"
   ]
  },
  {
   "cell_type": "code",
   "execution_count": null,
   "id": "18813ae1-461f-42ed-9790-3e91fd67c821",
   "metadata": {},
   "outputs": [],
   "source": [
    "train_df = load_fold(train_dir)\n",
    "test_df = load_fold(test_dir)"
   ]
  },
  {
   "cell_type": "code",
   "execution_count": null,
   "id": "bb869172-cab4-4b37-b0ab-a60ef088dafd",
   "metadata": {},
   "outputs": [],
   "source": [
    "feature_cols = np.array([col for col in train_df.columns[4:]])\n",
    "target_col = ['Target']"
   ]
  },
  {
   "cell_type": "code",
   "execution_count": null,
   "id": "c753c083-9dc9-491f-b668-c3221b7d6117",
   "metadata": {},
   "outputs": [],
   "source": [
    "lgb_train_data = lgb.Dataset(train_df[feature_cols],\n",
    "                             label=train_df[target_col])"
   ]
  },
  {
   "cell_type": "code",
   "execution_count": null,
   "id": "4621d310-992f-406f-8baf-21ed422fc67e",
   "metadata": {},
   "outputs": [],
   "source": [
    "param = {'objective': 'regression', 'metric': 'mae'}\n",
    "num_round = 20\n",
    "\n",
    "bst = lgb.train(param, lgb_train_data, num_round)"
   ]
  },
  {
   "cell_type": "code",
   "execution_count": null,
   "id": "6bdec360-8f27-474e-bf87-e040abb2870f",
   "metadata": {},
   "outputs": [],
   "source": [
    "# Save model\n",
    "bst.save_model('../models/lgbmBaseline.txt')"
   ]
  },
  {
   "cell_type": "code",
   "execution_count": null,
   "id": "e89453cd-84db-4ff0-8c27-f002f7d14d26",
   "metadata": {},
   "outputs": [],
   "source": [
    "feature_cols = np.array([col for col in train_df.columns[4:]])\n",
    "target_col = ['Target']"
   ]
  },
  {
   "cell_type": "code",
   "execution_count": null,
   "id": "5712a358-1140-4fed-a783-4c925bd13ea3",
   "metadata": {},
   "outputs": [],
   "source": [
    "feature_cols"
   ]
  },
  {
   "cell_type": "code",
   "execution_count": null,
   "id": "6dddb755-8861-4010-aa07-3d314daa73bc",
   "metadata": {},
   "outputs": [],
   "source": [
    "lgb_train_data = lgb.Dataset(train_df[feature_cols],\n",
    "                             label=train_df[target_col])"
   ]
  },
  {
   "cell_type": "code",
   "execution_count": null,
   "id": "31fae3a8-1df7-4a16-8481-7b0615f4a9de",
   "metadata": {},
   "outputs": [],
   "source": [
    "param = {'objective': 'regression', 'metric': 'mae'}\n",
    "num_round = 20\n",
    "\n",
    "bst = lgb.train(param, lgb_train_data, num_round)"
   ]
  },
  {
   "cell_type": "code",
   "execution_count": null,
   "id": "361f91a4-a661-4a5a-8a12-57934232af08",
   "metadata": {},
   "outputs": [],
   "source": [
    "# Save model\n",
    "bst.save_model('../models/lgbmBaseline.txt')"
   ]
  },
  {
   "cell_type": "code",
   "execution_count": null,
   "id": "4ea2701d-dab2-4a07-b740-da39d471f902",
   "metadata": {},
   "outputs": [],
   "source": [
    "pred = pd.DataFrame({'Asset_ID': train_df.Asset_ID,\n",
    "                     'timestamp': train_df.timestamp})\n",
    "\n",
    "pred['prediction'] = bst.predict(train_df[feature_cols])\n",
    "\n",
    "\n",
    "test = train_df[['Target', 'Weight', 'timestamp', 'Asset_ID']].merge(\n",
    "    pred, on=['timestamp', 'Asset_ID'], how='left').fillna(0)\n",
    "\n",
    "score = corr_score(test.Target, test.prediction, test.Weight)\n",
    "print(score)"
   ]
  },
  {
   "cell_type": "code",
   "execution_count": null,
   "id": "f029160e-51f7-426e-a9ae-0fd13a98640c",
   "metadata": {},
   "outputs": [],
   "source": [
    "sns.scatterplot(test.Target, test.prediction)"
   ]
  },
  {
   "cell_type": "code",
   "execution_count": null,
   "id": "89f0a146-a355-44dd-82a9-45abdc3846c3",
   "metadata": {},
   "outputs": [],
   "source": [
    "# Out of sample\n",
    "pred = pd.DataFrame({'Asset_ID': test_df.Asset_ID,\n",
    "                     'timestamp': test_df.timestamp})\n",
    "\n",
    "pred['prediction'] = bst.predict(test_df[feature_cols])\n",
    "\n",
    "\n",
    "test = test_df[['Target', 'Weight', 'timestamp', 'Asset_ID']].merge(\n",
    "    pred, on=['timestamp', 'Asset_ID'], how='left').fillna(0)\n",
    "\n",
    "score = corr_score(test.Target, test.prediction, test.Weight)\n",
    "print(score)"
   ]
  },
  {
   "cell_type": "code",
   "execution_count": null,
   "id": "3be7024d-7928-40f6-b2c2-e703efdab938",
   "metadata": {},
   "outputs": [],
   "source": [
    "stats.pearsonr(test.Target,test.prediction)"
   ]
  },
  {
   "cell_type": "code",
   "execution_count": null,
   "id": "6ccb6f44-d886-48e8-9cd6-211e971017d7",
   "metadata": {},
   "outputs": [],
   "source": [
    "sns.scatterplot(test.Target, test.prediction)"
   ]
  },
  {
   "cell_type": "code",
   "execution_count": null,
   "id": "31f70d01-a4dd-4172-8029-106f14625c6d",
   "metadata": {},
   "outputs": [],
   "source": [
    "np.corrcoef((test.Target,test.prediction))"
   ]
  },
  {
   "cell_type": "code",
   "execution_count": null,
   "id": "b59b6e94-cb05-4d18-9d68-2a8d52084886",
   "metadata": {},
   "outputs": [],
   "source": [
    "shap_values = shap.TreeExplainer(bst).shap_values(train_df[feature_cols])"
   ]
  },
  {
   "cell_type": "code",
   "execution_count": null,
   "id": "457231bc-166e-4776-8f54-4b3143b75bb3",
   "metadata": {},
   "outputs": [],
   "source": [
    "shap.summary_plot(shap_values, train_df[feature_cols])"
   ]
  },
  {
   "cell_type": "code",
   "execution_count": null,
   "id": "00608d5e-0c7c-48ba-888a-a5ac1e9a15a3",
   "metadata": {},
   "outputs": [],
   "source": [
    "sns.scatterplot(x='log_change_High_60min', y='Target', data=train_df)"
   ]
  },
  {
   "cell_type": "code",
   "execution_count": null,
   "id": "c495fba6-9783-4d86-afce-f53effe5af80",
   "metadata": {},
   "outputs": [],
   "source": [
    "sns.histplot(train_df.Target)"
   ]
  },
  {
   "cell_type": "code",
   "execution_count": null,
   "id": "e20a914f-25c5-4769-9c40-df7cb6167ae4",
   "metadata": {},
   "outputs": [],
   "source": []
  }
 ],
 "metadata": {
  "kernelspec": {
   "display_name": "Crypto Research",
   "language": "python",
   "name": "crypto"
  },
  "language_info": {
   "codemirror_mode": {
    "name": "ipython",
    "version": 3
   },
   "file_extension": ".py",
   "mimetype": "text/x-python",
   "name": "python",
   "nbconvert_exporter": "python",
   "pygments_lexer": "ipython3",
   "version": "3.9.7"
  }
 },
 "nbformat": 4,
 "nbformat_minor": 5
}
