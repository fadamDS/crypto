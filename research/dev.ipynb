{
 "cells": [
  {
   "cell_type": "code",
   "execution_count": null,
   "id": "6f7f2293-37e3-431c-83e4-36897bd46b87",
   "metadata": {},
   "outputs": [],
   "source": [
    "%load_ext autoreload\n",
    "%autoreload 2"
   ]
  },
  {
   "cell_type": "code",
   "execution_count": null,
   "id": "538a0ecd-bba2-4f95-bf6b-3962abf0486c",
   "metadata": {},
   "outputs": [],
   "source": [
    "import sys\n",
    "sys.path.append(\"../\")"
   ]
  },
  {
   "cell_type": "code",
   "execution_count": null,
   "id": "548a12a0-982b-403a-968f-c2098bc17fdb",
   "metadata": {
    "tags": []
   },
   "outputs": [],
   "source": [
    "import numpy as np\n",
    "import pandas as pd\n",
    "import seaborn as sns\n",
    "import os\n",
    "from datetime import datetime\n",
    "import matplotlib.pyplot as plt\n",
    "from tqdm import tqdm\n",
    "from scipy import stats\n",
    "import shap\n",
    "import lightgbm as lgb\n",
    "import pickle\n",
    "from datetime import datetime\n",
    "\n",
    "from src.utils import load_fold, load_gresearch_raw\n",
    "from src.evaluation import corr_score\n",
    "from src.settings import *\n",
    "from src.features import engineer_all_features, fast_engineer_all_features\n",
    "from src.models import CryptoDART\n",
    "\n",
    "plt.rcParams[\"figure.figsize\"] = (16,9)"
   ]
  },
  {
   "cell_type": "markdown",
   "id": "e84f72c1-e4c4-49f8-9b56-4db26f7d3f27",
   "metadata": {},
   "source": [
    "# New submission routine"
   ]
  },
  {
   "cell_type": "code",
   "execution_count": null,
   "id": "5dfc04a2-68b6-4776-9b2b-b6e657d370bf",
   "metadata": {},
   "outputs": [],
   "source": [
    "train = pd.read_pickle('../data/gresearch/processed/dev/train.pkl')\n",
    "test = pd.read_pickle('../data/gresearch/processed/dev/test.pkl')\n",
    "submission_df = pd.read_csv('../data/gresearch/raw/example_sample_submission.csv')"
   ]
  },
  {
   "cell_type": "code",
   "execution_count": null,
   "id": "0b3920d3-1edf-4e05-b38e-56fbcfa6b4c7",
   "metadata": {},
   "outputs": [],
   "source": [
    "# Setup features (in )\n",
    "feature_array = []\n",
    "for asset_id in assets:\n",
    "    \n",
    "    asset = train[train.Asset_ID == asset_id]\n",
    "    features = engineer_all_features(asset,\n",
    "                                     relative_cols,\n",
    "                                     relative_periods,\n",
    "                                     lagged_cols,\n",
    "                                     lagged_periods,\n",
    "                                     rolling_cols,\n",
    "                                     rolling_periods).iloc[:,2:]\n",
    "    feature_array.append(features.values)\n",
    "feature_array = np.array(feature_array)\n",
    "\n",
    "#\n"
   ]
  },
  {
   "cell_type": "code",
   "execution_count": null,
   "id": "5e4c06ff-179c-414f-86d1-6b07cfbdf601",
   "metadata": {},
   "outputs": [],
   "source": [
    "feature_array.shape"
   ]
  },
  {
   "cell_type": "code",
   "execution_count": null,
   "id": "a12b3d33-cff3-41c4-b95f-2da9cdd28403",
   "metadata": {},
   "outputs": [],
   "source": [
    "# Get Model\n",
    "model_save_dir = '../models/fold_10_submission/'\n",
    "base_name = 'submission'\n",
    "cryptoDart = CryptoDART(assets=assets,\n",
    "                                weights=weights,\n",
    "                                names=names,\n",
    "                                params=dart_base_params)\n",
    "model_save_dir = '../models/fold_10_submission/'\n",
    "cryptoDart.load_models(model_save_dir, base_name)"
   ]
  },
  {
   "cell_type": "code",
   "execution_count": null,
   "id": "4283150b-8d05-4e40-af4b-5629a7f35952",
   "metadata": {},
   "outputs": [],
   "source": [
    "feature_names = np.array(cryptoDart.models[0].feature_name())"
   ]
  },
  {
   "cell_type": "code",
   "execution_count": null,
   "id": "7b42fb91-164d-4df6-80be-e540fe5afd4a",
   "metadata": {},
   "outputs": [],
   "source": [
    "rolling_features = [f for f in features if f[:7]=='rolling' ]"
   ]
  },
  {
   "cell_type": "code",
   "execution_count": null,
   "id": "4fe79dfd-926a-4c68-be72-ebe4da651d73",
   "metadata": {},
   "outputs": [],
   "source": [
    "# Empty initialization period \n",
    "feature_array = np.repeat(np.nan, len(assets) * int(max_lookback_minutes) * len(feature_names)).reshape(len(assets),\n",
    "                                                                                                        int(max_lookback_minutes),\n",
    "                                                                                                        len(feature_names))"
   ]
  },
  {
   "cell_type": "code",
   "execution_count": null,
   "id": "dfcc8894-8e3f-4bac-9dc6-e2353546f96e",
   "metadata": {},
   "outputs": [],
   "source": [
    "train.timestamp.nunique()"
   ]
  },
  {
   "cell_type": "code",
   "execution_count": null,
   "id": "522d1dc8-9847-40c6-89b2-08db27239df9",
   "metadata": {},
   "outputs": [],
   "source": [
    "for i, ts in enumerate(train.timestamp.unique()):\n",
    "    \n",
    "    prediction_df = submission_df[submission_df.group_num==i]\n",
    "    \n",
    "    test_df = train[train.timestamp == ts]\n",
    "    \n",
    "    new_feature_array = []\n",
    "    \n",
    "    start_time = datetime.now()\n",
    "    for asset_id in assets:\n",
    "        \n",
    "        if not asset_id in test_df.Asset_ID.values:\n",
    "            \n",
    "            # Append and move forward by one\n",
    "            asset_features = np.append(asset_features[1:, :],\n",
    "                                       asset_features[-1,:], axis=0)\n",
    "            \n",
    "            new_feature_array.append(asset_features)\n",
    "            \n",
    "            continue\n",
    "        \n",
    "        asset = test_df[test_df.Asset_ID == asset_id].iloc[0]\n",
    "        \n",
    "        #row_id = prediction_df[prediction_df.row_id == asset_id]['row_id'].iloc[0]\n",
    "        \n",
    "        # get assets features\n",
    "        asset_features = feature_array[asset_id]\n",
    "        \n",
    "        asset_features = fast_engineer_all_features(asset,\n",
    "                                                    asset_features,\n",
    "                                                    feature_names,\n",
    "                                                    relative_cols,\n",
    "                                                    relative_periods,\n",
    "                                                    lagged_cols,\n",
    "                                                    lagged_periods,\n",
    "                                                    rolling_features)\n",
    "        \n",
    "        # Predict\n",
    "        pred = cryptoDart.predict_asset(asset_id, asset_features[-1].reshape(1,-1))[0]\n",
    "        #prediction_df.loc[prediction_df.row_id == row_id, 'Target'] = pred\n",
    "        \n",
    "        # Append data\n",
    "        new_feature_array.append(asset_features)\n",
    "\n",
    "\n",
    "    feature_array = np.array(new_feature_array)\n",
    "    \n",
    "    elapsed = (datetime.now() - start_time).total_seconds()\n",
    "    #print(f'Elapsed seconds {elapsed}')"
   ]
  },
  {
   "cell_type": "code",
   "execution_count": null,
   "id": "e57de30a-4a19-463d-a59b-d68e16c838c6",
   "metadata": {},
   "outputs": [],
   "source": []
  }
 ],
 "metadata": {
  "kernelspec": {
   "display_name": "Crypto Research",
   "language": "python",
   "name": "crypto"
  },
  "language_info": {
   "codemirror_mode": {
    "name": "ipython",
    "version": 3
   },
   "file_extension": ".py",
   "mimetype": "text/x-python",
   "name": "python",
   "nbconvert_exporter": "python",
   "pygments_lexer": "ipython3",
   "version": "3.9.7"
  }
 },
 "nbformat": 4,
 "nbformat_minor": 5
}
