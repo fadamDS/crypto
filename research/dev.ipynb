{
 "cells": [
  {
   "cell_type": "code",
   "execution_count": 1,
   "id": "6f7f2293-37e3-431c-83e4-36897bd46b87",
   "metadata": {},
   "outputs": [],
   "source": [
    "%load_ext autoreload\n",
    "%autoreload 2"
   ]
  },
  {
   "cell_type": "code",
   "execution_count": 2,
   "id": "538a0ecd-bba2-4f95-bf6b-3962abf0486c",
   "metadata": {},
   "outputs": [],
   "source": [
    "import sys\n",
    "sys.path.append(\"../\")"
   ]
  },
  {
   "cell_type": "code",
   "execution_count": 3,
   "id": "548a12a0-982b-403a-968f-c2098bc17fdb",
   "metadata": {},
   "outputs": [],
   "source": [
    "import numpy as np\n",
    "import pandas as pd\n",
    "import seaborn as sns\n",
    "import os\n",
    "import matplotlib.pyplot as plt\n",
    "from src.evaluation import *\n",
    "from src.utils import load_fold, assets, non_train_cols\n",
    "from src.models import BaseCryptoLearner\n",
    "plt.rcParams[\"figure.figsize\"] = (16,9)"
   ]
  },
  {
   "cell_type": "code",
   "execution_count": 7,
   "id": "d6dfbd3d-6e3d-473c-883c-b3ae682c7790",
   "metadata": {},
   "outputs": [],
   "source": [
    "import lightgbm as lgb"
   ]
  },
  {
   "cell_type": "code",
   "execution_count": 4,
   "id": "62801de2-822f-47ca-853c-88213c0d9f29",
   "metadata": {},
   "outputs": [],
   "source": [
    "asset_info = pd.read_csv('../data/gresearch/raw/asset_details.csv')"
   ]
  },
  {
   "cell_type": "code",
   "execution_count": 5,
   "id": "8d1c0f4d-aef9-48c7-9c15-9ceeef1c283e",
   "metadata": {},
   "outputs": [],
   "source": [
    "# Load training data \n",
    "train_dir = '../data/gresearch/processed/fold_1/train/'\n",
    "test_dir = '../data/gresearch/processed/fold_1/test/'"
   ]
  },
  {
   "cell_type": "code",
   "execution_count": 6,
   "id": "4a7d9320-bc66-40fe-961d-cf17228df61d",
   "metadata": {},
   "outputs": [],
   "source": [
    "train_df = load_fold(train_dir)\n",
    "test_df = load_fold(test_dir)"
   ]
  },
  {
   "cell_type": "code",
   "execution_count": 21,
   "id": "e89453cd-84db-4ff0-8c27-f002f7d14d26",
   "metadata": {},
   "outputs": [],
   "source": [
    "feature_cols = ['direct_return', 'log_return', 'high_low_ratio','rel_change_Target_1min']\n",
    "target_col = ['Target']"
   ]
  },
  {
   "cell_type": "code",
   "execution_count": 23,
   "id": "6dddb755-8861-4010-aa07-3d314daa73bc",
   "metadata": {},
   "outputs": [],
   "source": [
    "lgb_train_data = lgb.Dataset(train_df[feature_cols],\n",
    "                             label=train_df[target_col],\n",
    "                             feature_name=feature_cols)"
   ]
  },
  {
   "cell_type": "code",
   "execution_count": 25,
   "id": "31fae3a8-1df7-4a16-8481-7b0615f4a9de",
   "metadata": {},
   "outputs": [
    {
     "name": "stdout",
     "output_type": "stream",
     "text": [
      "[LightGBM] [Warning] Auto-choosing row-wise multi-threading, the overhead of testing was 0.004513 seconds.\n",
      "You can set `force_row_wise=true` to remove the overhead.\n",
      "And if memory is not enough, you can set `force_col_wise=true`.\n",
      "[LightGBM] [Info] Total Bins 1020\n",
      "[LightGBM] [Info] Number of data points in the train set: 1084666, number of used features: 4\n",
      "[LightGBM] [Info] Start training from score -0.000005\n"
     ]
    }
   ],
   "source": [
    "param = {'objective': 'regression', 'metric': 'mae'}\n",
    "num_round = 10\n",
    "\n",
    "bst = lgb.train(param, lgb_train_data, num_round)"
   ]
  },
  {
   "cell_type": "code",
   "execution_count": 29,
   "id": "4ea2701d-dab2-4a07-b740-da39d471f902",
   "metadata": {},
   "outputs": [],
   "source": [
    "pred = pd.DataFrame({'Asset_ID': train_df.Asset_ID,\n",
    "                     'timestamp': train_df.timestamp})\n",
    "\n",
    "pred['prediction'] = bst.predict(train_df[feature_cols])\n",
    "\n",
    "\n",
    "test = train_df[['Target', 'Weight', 'timestamp', 'Asset_ID']].merge(\n",
    "    pred, on=['timestamp', 'Asset_ID'], how='left').fillna(0)\n",
    "\n",
    "score = corr_score(test.Target, test.prediction, test.Weight)"
   ]
  },
  {
   "cell_type": "markdown",
   "id": "d8342968-f789-4ddb-9d32-8b0664ae8d89",
   "metadata": {},
   "source": [
    "In sample score"
   ]
  },
  {
   "cell_type": "code",
   "execution_count": 30,
   "id": "a7819318-11a8-4527-a575-9d63dd6d04ae",
   "metadata": {},
   "outputs": [
    {
     "data": {
      "text/plain": [
       "0.07975201013848894"
      ]
     },
     "execution_count": 30,
     "metadata": {},
     "output_type": "execute_result"
    }
   ],
   "source": [
    "score"
   ]
  },
  {
   "cell_type": "code",
   "execution_count": 31,
   "id": "89f0a146-a355-44dd-82a9-45abdc3846c3",
   "metadata": {},
   "outputs": [
    {
     "name": "stdout",
     "output_type": "stream",
     "text": [
      "0.022044524038922934\n"
     ]
    }
   ],
   "source": [
    "# Out of sample\n",
    "pred = pd.DataFrame({'Asset_ID': test_df.Asset_ID,\n",
    "                     'timestamp': test_df.timestamp})\n",
    "\n",
    "pred['prediction'] = bst.predict(test_df[feature_cols])\n",
    "\n",
    "\n",
    "test = test_df[['Target', 'Weight', 'timestamp', 'Asset_ID']].merge(\n",
    "    pred, on=['timestamp', 'Asset_ID'], how='left').fillna(0)\n",
    "\n",
    "score = corr_score(test.Target, test.prediction, test.Weight)\n",
    "print(score)"
   ]
  },
  {
   "cell_type": "code",
   "execution_count": null,
   "id": "b59b6e94-cb05-4d18-9d68-2a8d52084886",
   "metadata": {},
   "outputs": [],
   "source": []
  }
 ],
 "metadata": {
  "kernelspec": {
   "display_name": "Crypto Research",
   "language": "python",
   "name": "crypto"
  },
  "language_info": {
   "codemirror_mode": {
    "name": "ipython",
    "version": 3
   },
   "file_extension": ".py",
   "mimetype": "text/x-python",
   "name": "python",
   "nbconvert_exporter": "python",
   "pygments_lexer": "ipython3",
   "version": "3.9.7"
  }
 },
 "nbformat": 4,
 "nbformat_minor": 5
}
